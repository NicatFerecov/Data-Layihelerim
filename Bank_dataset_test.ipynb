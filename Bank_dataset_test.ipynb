{
  "nbformat": 4,
  "nbformat_minor": 0,
  "metadata": {
    "colab": {
      "provenance": [],
      "toc_visible": true,
      "authorship_tag": "ABX9TyO6+KGTj6RnF6APyXisBAxx"
    },
    "kernelspec": {
      "name": "python3",
      "display_name": "Python 3"
    },
    "language_info": {
      "name": "python"
    }
  },
  "cells": [
    {
      "cell_type": "markdown",
      "source": [
        "# Orta, standart kənarlaşma və dispersiya\n",
        "\n",
        "---\n",
        "\n"
      ],
      "metadata": {
        "id": "CVBEk2gfLqip"
      }
    },
    {
      "cell_type": "code",
      "source": [
        "import pandas as pd\n",
        "import numpy as np\n",
        "\n",
        "\n",
        "df = pd.read_csv('/content/DataSet/bank.csv', sep=';')\n",
        "\n",
        "ages = df['age'].values\n",
        "\n",
        "print(np.mean(ages))\n",
        "print(np.std(ages))"
      ],
      "metadata": {
        "colab": {
          "base_uri": "https://localhost:8080/"
        },
        "id": "gNazI-RNMTKN",
        "outputId": "988d2996-522b-44f6-b237-4e8d42174dfc"
      },
      "execution_count": 9,
      "outputs": [
        {
          "output_type": "stream",
          "name": "stdout",
          "text": [
            "41.17009511170095\n",
            "10.575041217961267\n"
          ]
        }
      ]
    },
    {
      "cell_type": "markdown",
      "source": [
        "#  30 yaşdan yuxarı, balansı 5000 AZN-dən yuxarı müştərilərin sayı"
      ],
      "metadata": {
        "id": "wcH6KVnnLuQZ"
      }
    },
    {
      "cell_type": "code",
      "source": [
        "mask = np.logical_and(df['age'].values > 30, df['balance'].values > 5000)\n",
        "price = np.sum(mask)\n",
        "\n",
        "print(f\"Cemi: {price}\")"
      ],
      "metadata": {
        "colab": {
          "base_uri": "https://localhost:8080/"
        },
        "id": "0EUB-ImBNe8a",
        "outputId": "71915c86-8ebe-4e83-c7c2-6cf53f0f31f7"
      },
      "execution_count": 15,
      "outputs": [
        {
          "output_type": "stream",
          "name": "stdout",
          "text": [
            "Cemi: 281\n"
          ]
        }
      ]
    },
    {
      "cell_type": "markdown",
      "source": [
        "# Təsadüfi yeni müştəri məlumatlarının simulyasiyası"
      ],
      "metadata": {
        "id": "xv1nJ2lgLumw"
      }
    },
    {
      "cell_type": "code",
      "source": [
        "random_balance = np.random.normal(loc=1500, scale=800, size=1000)"
      ],
      "metadata": {
        "id": "xUZtse8AOTVo"
      },
      "execution_count": 17,
      "outputs": []
    },
    {
      "cell_type": "markdown",
      "source": [
        "# Orta kampaniya müddəti və ən uzun zəng"
      ],
      "metadata": {
        "id": "FJvdQvMvL7iB"
      }
    },
    {
      "cell_type": "code",
      "source": [
        "print(np.mean(df['duration'].values))\n",
        "print(np.max(df['duration'].values))"
      ],
      "metadata": {
        "colab": {
          "base_uri": "https://localhost:8080/"
        },
        "id": "LpWg5hhDOlZR",
        "outputId": "0f970e81-b39f-49c5-b0a9-473408772f5f"
      },
      "execution_count": 18,
      "outputs": [
        {
          "output_type": "stream",
          "name": "stdout",
          "text": [
            "263.96129174961294\n",
            "3025\n"
          ]
        }
      ]
    },
    {
      "cell_type": "markdown",
      "source": [
        "# Korrelyasiya matrisi"
      ],
      "metadata": {
        "id": "u0gDAbyAL75R"
      }
    },
    {
      "cell_type": "code",
      "source": [
        "numeric_cols = ['age', 'balance', 'day', 'duration', 'campaign', 'pdays', 'previous']\n",
        "corr = np.corrcoef(df[numeric_cols].values.T)\n",
        "print(corr)"
      ],
      "metadata": {
        "colab": {
          "base_uri": "https://localhost:8080/"
        },
        "id": "XYijKWoYOz_z",
        "outputId": "e2d42767-746d-4b9c-d5dd-c1bfe12696ea"
      },
      "execution_count": 21,
      "outputs": [
        {
          "output_type": "stream",
          "name": "stdout",
          "text": [
            "[[ 1.          0.08382014 -0.01785263 -0.00236689 -0.0051479  -0.00889353\n",
            "  -0.00351092]\n",
            " [ 0.08382014  1.         -0.00867705 -0.01594992 -0.00997617  0.00943668\n",
            "   0.02619636]\n",
            " [-0.01785263 -0.00867705  1.         -0.02462931  0.16070607 -0.09435152\n",
            "  -0.05911439]\n",
            " [-0.00236689 -0.01594992 -0.02462931  1.         -0.068382    0.01038024\n",
            "   0.01808032]\n",
            " [-0.0051479  -0.00997617  0.16070607 -0.068382    1.         -0.09313682\n",
            "  -0.06783263]\n",
            " [-0.00889353  0.00943668 -0.09435152  0.01038024 -0.09313682  1.\n",
            "   0.57756183]\n",
            " [-0.00351092  0.02619636 -0.05911439  0.01808032 -0.06783263  0.57756183\n",
            "   1.        ]]\n"
          ]
        }
      ]
    },
    {
      "cell_type": "markdown",
      "source": [
        "# Vizuallaşdırma nümunəsi"
      ],
      "metadata": {
        "id": "UOLE5VWDMFLD"
      }
    },
    {
      "cell_type": "code",
      "source": [
        "import matplotlib.pyplot as plt\n",
        "\n",
        "\n",
        "plt.hist(df['age'].values, bins=20, color='skyblue')\n",
        "plt.title(\"Müştəri Yaş Dağılımı\")\n",
        "plt.xlabel(\"Yaş\")\n",
        "plt.ylabel(\"Müştəri Sayısı\")\n",
        "plt.show()"
      ],
      "metadata": {
        "colab": {
          "base_uri": "https://localhost:8080/",
          "height": 472
        },
        "id": "JWbg3fVnPa8D",
        "outputId": "bd39ac8e-05a1-46cf-f092-80d51a6801d2"
      },
      "execution_count": 25,
      "outputs": [
        {
          "output_type": "display_data",
          "data": {
            "text/plain": [
              "<Figure size 640x480 with 1 Axes>"
            ],
            "image/png": "[encoded data removed]"
          },
          "metadata": {}
        }
      ]
    },
    {
      "cell_type": "markdown",
      "source": [
        "# Nəticə:\n",
        "Bu verilənlər bazası ilə:\n",
        "\n",
        "NumPy ilə sürətli statistika hesablaya bilərsiniz,\n",
        "\n",
        "Pandas ilə verilənlər bazasını idarə edin,\n",
        "\n",
        "Seaborn/Matplotlib ilə məlumatları vizuallaşdırın,\n",
        "\n",
        "Machine Learning modeli üçün məlumat hazırlayın.\n",
        "\n",
        "\n",
        "\n",
        "\n",
        "> Nicat Ferecov\n",
        "\n"
      ],
      "metadata": {
        "id": "T-zIHbp7MHQq"
      }
    }
  ]
}